{
 "cells": [
  {
   "cell_type": "markdown",
   "id": "e403afbb",
   "metadata": {},
   "source": [
    "Group Team Request:\n",
    "\n",
    "- Nathan Yoon\n",
    "- Luca De Dios\n",
    "- Garry Wang"
   ]
  },
  {
   "cell_type": "markdown",
   "id": "e4b56393",
   "metadata": {},
   "source": [
    "<h1>1. Influence of Demographic and Psychological Factors on Self-Image Dissatisfaction.<h1>"
   ]
  },
  {
   "cell_type": "markdown",
   "id": "efb4b4e4",
   "metadata": {},
   "source": [
    "<span style=\"font-size: 24px;\"><b>Research Question<b></span>"
   ]
  },
  {
   "cell_type": "markdown",
   "id": "d9ff1b2b",
   "metadata": {},
   "source": [
    "How do demographic factors (age, gender, identity) and psychological traits (agreeableness, neuroticism) influence self-image dissatisfaction as measured by scores on the PSYCH body self-image questionnaire, specifically the height dissatisfaction score and the fatness evaluation score?"
   ]
  },
  {
   "cell_type": "markdown",
   "id": "daf61567",
   "metadata": {},
   "source": [
    "<span style=\"font-size: 24px;\"><b>Variables<b></span>"
   ]
  },
  {
   "cell_type": "markdown",
   "id": "93341488",
   "metadata": {},
   "source": [
    "**Dependent Variables:**"
   ]
  },
  {
   "cell_type": "markdown",
   "id": "17845240",
   "metadata": {},
   "source": [
    "- PSYCH_body_self_image_questionnaire_height_dissatisfaction_score\n",
    "\n",
    "Description: A numeric score representing an individual's dissatisfaction with their height based on responses to a specific questionnaire.\n",
    "\n",
    "Visualization: Histogram\n",
    "\n",
    "Usefulness: A histogram will show the distribution of height dissatisfaction scores across the population, helping to identify the central tendency (mean/median) and spread (variability) of dissatisfaction. It can also reveal potential skewness or outliers in the data.\n",
    "\n",
    "- PSYCH_body_self_image_questionnaire_fatness_evaluation_score\n",
    "\n",
    "Description: A numeric score reflecting an individual’s evaluation of their body fatness based on questionnaire responses.\n",
    "\n",
    "Visualization: Box Plot\n",
    "\n",
    "Usefulness: A box plot will effectively display the median, quartiles, and potential outliers of fatness evaluation scores, allowing for comparison between different demographic groups (e.g., gender or identity). It helps in visualizing variability and central tendency while highlighting differences across categories."
   ]
  },
  {
   "cell_type": "markdown",
   "id": "d88990f0",
   "metadata": {},
   "source": [
    "**Independent Variables:**"
   ]
  },
  {
   "cell_type": "markdown",
   "id": "d6b2c983",
   "metadata": {},
   "source": [
    "**A. Demographic Variables:**\n",
    "\n",
    "- DEMO_age\n",
    "\n",
    "Description: A numeric variable representing the age of the individual in years.\n",
    "\n",
    "Visualization: Scatter Plot\n",
    "\n",
    "Usefulness: A scatter plot can illustrate the relationship between age and body self-image dissatisfaction scores. This visualization helps to identify any trends or correlations, indicating whether age influences dissatisfaction.\n",
    "\n",
    "- DEMO_gender\n",
    "\n",
    "Description: A categorical variable indicating the gender of the individual (e.g., male, female, non-binary).\n",
    "\n",
    "Visualization: Bar Chart\n",
    "\n",
    "Usefulness: A bar chart will allow for a straightforward comparison of mean dissatisfaction scores between different gender groups, making it easy to visualize differences in body image perceptions across genders.\n",
    "\n",
    "- DEMO_identity_vetrans, DEMO_identity_indigenous, DEMO_identity_lgbtq\n",
    "\n",
    "Description: Binary variables indicating whether the individual identifies as a veteran, indigenous, or LGBTQ.\n",
    "\n",
    "Visualization: Grouped Bar Chart\n",
    "\n",
    "Usefulness: A grouped bar chart can display average dissatisfaction scores across these identity categories, facilitating comparison and illustrating how these identities may impact body self-image dissatisfaction.\n",
    "\n",
    "**B. Psychological Scores:**\n",
    "\n",
    "- PSYCH_big_five_inventory_agreeable_score\n",
    "\n",
    "Description: A numeric score assessing the agreeableness trait from the Big Five personality inventory.\n",
    "\n",
    "Visualization: Scatter Plot\n",
    "\n",
    "Usefulness: A scatter plot can show the relationship between agreeableness and dissatisfaction scores, allowing for the visualization of trends or correlations that indicate whether higher agreeableness is associated with lower dissatisfaction.\n",
    "\n",
    "- PSYCH_big_five_inventory_neurotic_score\n",
    "\n",
    "Description: A numeric score measuring the level of neuroticism in an individual.\n",
    "\n",
    "Visualization: Line Graph\n",
    "\n",
    "Usefulness: A line graph can illustrate the average dissatisfaction scores as neuroticism increases, highlighting trends and potential thresholds where dissatisfaction may spike."
   ]
  },
  {
   "cell_type": "markdown",
   "id": "7f32ba58",
   "metadata": {},
   "source": [
    "**Justification: These variables were selected to explore how demographic and psychological characteristics may relate to self-image dissatisfaction, a topic relevant to mental health and social well-being.**"
   ]
  },
  {
   "cell_type": "markdown",
   "id": "8d3a0dcb",
   "metadata": {},
   "source": [
    "<span style=\"font-size: 24px;\"><b>Analysis<b></span>"
   ]
  },
  {
   "cell_type": "markdown",
   "id": "0bed47fd",
   "metadata": {},
   "source": [
    "Methodology:\n",
    "\n",
    "1. Correlation Analysis\n",
    "\n",
    "Description: This analysis will evaluate the strength and direction of relationships between psychological scores (e.g., neuroticism, agreeableness) and dissatisfaction scores (height and fatness). Pearson’s correlation coefficient will be used for normally distributed data, while Spearman’s rank correlation will be employed for non-normally distributed data.\n",
    "\n",
    "2. Multiple Regression Analysis\n",
    "\n",
    "Description: This method will model the effect of both demographic and psychological variables on dissatisfaction scores. The regression model will include all relevant predictors to assess their unique contributions to dissatisfaction.\n",
    "\n",
    "3. ANOVA\n",
    "\n",
    "Description: Analysis of Variance (ANOVA) will be conducted to explore mean differences in dissatisfaction scores across categorical demographic groups (e.g., gender, identity categories). If significant, post-hoc tests (e.g., Tukey's HSD) will determine where the differences lie.\n",
    "\n",
    "4. Hypothesis Testing\n",
    "\n",
    "Description: Hypothesis tests (e.g., t-tests for two groups and ANOVA for more than two groups) will assess whether there are statistically significant differences in mean dissatisfaction scores between demographic groups. A significance level of 0.05 will be used to determine statistical significance.\n",
    "\n",
    "5. Bootstrap Methods\n",
    "\n",
    "Description: Bootstrapping will be employed to estimate confidence intervals for regression coefficients and to validate the robustness of the findings. This non-parametric method will allow us to assess the stability of the results, especially given any violations of parametric assumptions.\n",
    "\n",
    "\n",
    "Assumptions:\n",
    "\n",
    "1. Normality: Before applying correlation and regression analyses, normality tests (e.g., Shapiro-Wilk test) will be conducted on the variables. If assumptions of normality are violated, transformations (e.g., log transformation) will be considered, or non-parametric tests will be utilized.\n",
    "2. Linearity: Scatter plots will be visually inspected to assess the linearity of relationships between predictors and outcomes.\n",
    "3. Homoscedasticity: Residual plots will be examined post-regression analysis to ensure that residuals exhibit constant variance.\n",
    "4. Independence: The data collection method should ensure independence, and any signs of autocorrelation will be checked, particularly in time-series data, if applicable."
   ]
  },
  {
   "cell_type": "markdown",
   "id": "b32c5c53",
   "metadata": {},
   "source": [
    "<span style=\"font-size: 24px;\"><b>Hypothesis<b></span>"
   ]
  },
  {
   "cell_type": "markdown",
   "id": "c8ce463f",
   "metadata": {},
   "source": [
    "We hypothesize that self-image dissatisfaction, as shown by both height dissatisfaction and fatness appraisal scores, is positively correlated with higher neuroticism and lower agreeableness scores. Furthermore, we anticipate that due to social stresses and particular identity-based difficulties, some demographic groups—such as those who identify as LGBTQ, veterans, or Indigenous—may report higher levels of self-image dissatisfaction. We also speculate that gender and age might be factors, with younger people and women perhaps expressing higher levels of discontent because of social pressures and expectations surrounding body image."
   ]
  },
  {
   "cell_type": "markdown",
   "id": "ff49e193",
   "metadata": {},
   "source": [
    "<span style=\"font-size: 24px;\"><b>Relevant for the objectives of the course project<b></span>"
   ]
  },
  {
   "cell_type": "markdown",
   "id": "4367e911",
   "metadata": {},
   "source": [
    "By investigating the potential effects of individual psychological characteristics and demographic variables on self-image dissatisfaction—a crucial component of mental health and well-being—this study advances the goal of the course project. We can learn more about how social and community issues may influence a person's self-perception by identifying characteristics and demographic categories that are associated with higher levels of discontent. This is in line with the course's overarching objective of examining how social connections and community influence wellbeing. Additionally, by identifying which groups are more dissatisfied, this study can help guide community-engaged learning programs that promote inclusivity, foster positive self-image, and offer mental health advantages, all of which improve social and personal satisfaction for a variety of student and community groups."
   ]
  },
  {
   "cell_type": "markdown",
   "id": "e7c32cf5",
   "metadata": {},
   "source": [
    "<h1>2. Analyzing the Influence of Personality Traits and Demographic Factors on Social Dependence Scores<h1>"
   ]
  },
  {
   "cell_type": "markdown",
   "id": "7ea41ee9",
   "metadata": {},
   "source": [
    "<span style=\"font-size: 24px;\"><b>Research Question<b></span>"
   ]
  },
  {
   "cell_type": "markdown",
   "id": "6d1009c5",
   "metadata": {},
   "source": [
    "What is the relationship between personality traits and demographic factors with social dependence, as measured by the PSYCH_body_self_image_questionnaire_social_dependence_score? Specifically, do certain demographics or personality traits correlate with higher levels of social dependence?"
   ]
  },
  {
   "cell_type": "markdown",
   "id": "21ba31d8",
   "metadata": {},
   "source": [
    "<span style=\"font-size: 24px;\"><b>Variables<b></span>"
   ]
  },
  {
   "cell_type": "markdown",
   "id": "c3b844e5",
   "metadata": {},
   "source": [
    "**Dependent Variables:**"
   ]
  },
  {
   "cell_type": "markdown",
   "id": "41a310e6",
   "metadata": {},
   "source": [
    "1. PSYCH_body_self_image_questionnaire_social_dependence_score (continuous)\n",
    "- Description: This variable measures the level of social dependence based on responses to questions related to body image and self-perception. It is quantified on a continuous scale, with higher scores indicating greater reliance on external approval.\n",
    "- Visualization: A histogram will display the distribution of social dependence scores.\n",
    "- Usefulness: This visualization helps identify the general trend, skewness, or multimodal distributions within the sample. Understanding this distribution is essential to determining which personality traits or demographics might influence social dependence."
   ]
  },
  {
   "cell_type": "markdown",
   "id": "20f09124",
   "metadata": {},
   "source": [
    "**Independent Variables:**"
   ]
  },
  {
   "cell_type": "markdown",
   "id": "ceca4040",
   "metadata": {},
   "source": [
    "**A. Demographic Variables:**"
   ]
  },
  {
   "cell_type": "markdown",
   "id": "78eca0a8",
   "metadata": {},
   "source": [
    "- DEMO_age (numeric)\n",
    "\n",
    "Description: This variable captures the participant's age in years, enabling examination of age-related patterns in social dependence.\n",
    "\n",
    "Visualization: A scatter plot of age against social dependence scores will help assess any linear relationship between the two.\n",
    "\n",
    "Usefulness: This visualization shows how social dependence varies with age, helping to identify whether younger or older individuals are more prone to seeking social validation.\n",
    "\n",
    "- DEMO_gender (categorical)\n",
    "\n",
    "Description: This variable indicates the participant’s self-reported gender identity.\n",
    "\n",
    "Visualization: A box plot will compare social dependence scores across gender groups.\n",
    "\n",
    "Usefulness: This allows for examination of central tendencies and spread, highlighting any significant differences in social dependence by gender, which may suggest gendered differences in social validation needs.\n",
    "\n",
    "- DEMO_identity_veteran, DEMO_identity_LGBTQ, DEMO_identity_indigenous (binary)\n",
    "\n",
    "Description: These binary variables identify participants as veterans, LGBTQ, or Indigenous, providing a basis for examining how these specific identities relate to social dependence.\n",
    "\n",
    "Visualization: Separate box plots for each identity variable will highlight variations in social dependence scores across these groups.\n",
    "\n",
    "Usefulness: These visualizations may reveal higher social dependence among specific identity groups, which could suggest social challenges unique to these demographics and inform targeted mental health support."
   ]
  },
  {
   "cell_type": "markdown",
   "id": "34c2e788",
   "metadata": {},
   "source": [
    "**B. Personality Traits:**"
   ]
  },
  {
   "cell_type": "markdown",
   "id": "ea94eaaf",
   "metadata": {},
   "source": [
    "- PSYCH_big_five_inventory_agreeable_score (continuous)\n",
    "\n",
    "Description: This score measures agreeableness, reflecting a participant’s tendency to seek harmony in social relationships.\n",
    "\n",
    "Visualization: A scatter plot comparing agreeableness scores with social dependence will show potential correlations.\n",
    "\n",
    "Usefulness: Identifying patterns here could suggest whether higher agreeableness correlates with a stronger need for social approval, providing insight into personality’s role in social dependence.\n",
    "\n",
    "- PSYCH_big_five_inventory_extraverted_score (continuous)\n",
    "\n",
    "Description: This score captures extraversion levels, indicating a person’s preference for social interaction and enthusiasm in group settings.\n",
    "\n",
    "Visualization: A scatter plot with linear regression will examine the relationship between extraversion and social dependence.\n",
    "\n",
    "Usefulness: This could highlight whether more extroverted individuals display higher social dependence, suggesting a potential link between social orientation and reliance on external validation.\n",
    "\n",
    "- PSYCH_big_five_inventory_neurotic_score (continuous)\n",
    "\n",
    "Description: Neuroticism assesses emotional instability, with higher scores indicating tendencies toward emotional reactivity and stress.\n",
    "\n",
    "Visualization: A scatter plot between neuroticism and social dependence scores will help assess correlations.\n",
    "\n",
    "Usefulness: This visualization may reveal whether individuals with higher neuroticism are more socially dependent, shedding light on the emotional factors influencing validation-seeking behaviors."
   ]
  },
  {
   "cell_type": "markdown",
   "id": "98deec6b",
   "metadata": {},
   "source": [
    "<span style=\"font-size: 24px;\"><b>Analysis<b></span>"
   ]
  },
  {
   "cell_type": "markdown",
   "id": "285e052e",
   "metadata": {},
   "source": [
    "1. Data Summarization: Initial summaries using df.describe() and df.value_counts() will provide an overview of numeric and categorical data, ensuring data integrity and revealing potential data entry errors.\n",
    "\n",
    "2. Group-Based Analysis: Using df.groupby() and descriptive statistics, social dependence scores will be compared across demographic groups (e.g., gender and LGBTQ identity) to detect any significant mean differences. For example: df.groupby('DEMO_gender')['PSYCH_body_self_image_questionnaire_social_dependence_score'].describe().\n",
    "\n",
    "3. Bootstrapping for Confidence Intervals:\n",
    "\n",
    "- Description: Bootstrapping will be applied to estimate confidence intervals for mean differences in social dependence scores across demographic groups (e.g., gender, LGBTQ identity) and for correlation coefficients between personality traits and social dependence.\n",
    "- Procedure: For each demographic or trait comparison, multiple resamples (e.g., 1,000) will be generated from the original data, calculating the mean, correlation, or other relevant statistics for each resample. The distribution of these statistics will be used to construct confidence intervals.\n",
    "- Usefulness: Bootstrapping will provide more reliable confidence intervals for group differences and correlations, especially in cases where assumptions of normality may not hold or where sample sizes are uneven across groups. This helps validate findings by confirming that observed trends are not due to sample-specific biases.\n",
    "\n",
    "4. Correlation Analysis: Pearson or Spearman correlation tests (depending on data normality) will be used to evaluate relationships between continuous variables (e.g., personality traits and social dependence). Bootstrapping can also provide confidence intervals around these correlation coefficients, enhancing interpretability.\n",
    "\n",
    "5. Subsetting and Conditional Selection: Boolean indexing will be used for subgroup analyses (e.g., df[df['DEMO_identity_LGBTQ'] == 'Yes']), facilitating specific demographic comparisons."
   ]
  },
  {
   "cell_type": "markdown",
   "id": "b4f2bc05",
   "metadata": {},
   "source": [
    "Justification for Bootstrapping:\n",
    "Bootstrapping is particularly useful in this context because it does not assume a particular distribution of the data. Given that demographic groups might have different sample sizes and that personality scores or social dependence scores may not be normally distributed, bootstrapping will allow for more robust estimates of group-level differences and correlation coefficients, adding credibility to the study’s findings.\n",
    "\n",
    "\n",
    "Assumptions:\n",
    "\n",
    "The relationships between personality traits and social dependence are assumed to be linear, a hypothesis to be tested using scatter plots and correlation coefficients.\n",
    "Categorical demographics (e.g., gender, LGBTQ identity) will show mean differences in social dependence scores and are assessed separately to reflect the unique social validation needs of each group."
   ]
  },
  {
   "cell_type": "markdown",
   "id": "eaa153dd",
   "metadata": {},
   "source": [
    "<span style=\"font-size: 24px;\"><b>Hypothesis<b></span>"
   ]
  },
  {
   "cell_type": "markdown",
   "id": "bd8844c0",
   "metadata": {},
   "source": [
    "1. Hypothesis: It is anticipated that individuals with higher neuroticism and extraversion scores will display elevated social dependence due to a greater reliance on external validation. Additionally, certain demographics, such as LGBTQ individuals, may exhibit higher social dependence scores due to social stressors and validation needs.\n",
    "\n",
    "2. Relevance: Understanding how personality traits and demographic factors influence social dependence will help mental health professionals tailor interventions for those with higher needs for social validation, potentially mitigating social anxiety and low self-esteem. These insights could guide programs that target specific risk factors, particularly in vulnerable demographic groups."
   ]
  },
  {
   "cell_type": "markdown",
   "id": "224f538e",
   "metadata": {},
   "source": [
    "<span style=\"font-size: 24px;\"><b>Relevant for the objectives of the course project<b></span>"
   ]
  },
  {
   "cell_type": "markdown",
   "id": "d52a1272",
   "metadata": {},
   "source": [
    "By examining how personality traits and demographic factors impact social reliance, this study supports the goal of the course project by illuminating who might gain the most from community engagement. Students' sense of wellbeing and belonging could be improved by directing focused community activities based on characteristics like extraversion or demographics like LGBTQ identification that are associated with higher social validation needs. This study promotes trustworthy, data-driven insights on promoting connection and personal fulfillment through community-centered experiences by utilizing strong methodologies like bootstrapping."
   ]
  },
  {
   "cell_type": "markdown",
   "id": "df255e3d",
   "metadata": {},
   "source": [
    "<h1>3. Investigating the Relationship Between Demographic and Psychological Factors and Body Image Dissatisfaction Scores<h1>"
   ]
  },
  {
   "cell_type": "markdown",
   "id": "5574970d",
   "metadata": {},
   "source": [
    "<span style=\"font-size: 24px;\"><b>Research Question<b></span>"
   ]
  },
  {
   "cell_type": "markdown",
   "id": "e82516fd",
   "metadata": {},
   "source": [
    "**How do demographic and psychological factors relate to height dissatisfaction scores in a body self-image questionnaire?**"
   ]
  },
  {
   "cell_type": "markdown",
   "id": "45627f2a",
   "metadata": {},
   "source": [
    "<span style=\"font-size: 24px;\"><b>Variables<b></span>"
   ]
  },
  {
   "cell_type": "markdown",
   "id": "46559ec0",
   "metadata": {},
   "source": [
    "**Dependent Variables:**"
   ]
  },
  {
   "cell_type": "markdown",
   "id": "6249f2c3",
   "metadata": {},
   "source": [
    "1. PSYCH_body_self_image_questionnaire_height_dissatisfaction_score\n",
    "\n",
    "Description: This is a continuous variable representing participants’ level of dissatisfaction with their height, as measured by a body self-image questionnaire. It is the primary outcome variable in this study.\n",
    "\n",
    "Visualization:\n",
    "    \n",
    "    - Histogram: To examine the overall distribution of height dissatisfaction scores, identifying any skewness or potential outliers in responses.\n",
    "    - Box Plot by Demographics: To assess how height dissatisfaction varies across different demographic categories (e.g., gender, LGBTQ status).\n",
    "\n",
    "Usefulness: Visualizing the distribution of height dissatisfaction scores provides a baseline understanding of the outcome variable. Comparing it across demographic groups can reveal patterns that may indicate whether certain groups experience higher levels of dissatisfaction, offering initial insights into potential demographic influences on body image."
   ]
  },
  {
   "cell_type": "markdown",
   "id": "d9e8b134",
   "metadata": {},
   "source": [
    "**Independent Variables:**"
   ]
  },
  {
   "cell_type": "markdown",
   "id": "a9a56e13",
   "metadata": {},
   "source": [
    "**A. Demographic Variables**"
   ]
  },
  {
   "cell_type": "markdown",
   "id": "a8589cf8",
   "metadata": {},
   "source": [
    "- DEMO_age\n",
    "\n",
    "Description: A numeric variable representing participants’ ages.\n",
    "\n",
    "Visualization:\n",
    "\n",
    "    - Histogram: To assess the distribution of age within the sample, checking for skewness or unusual distribution patterns.\n",
    "    - Scatter Plot (Age vs. Height Dissatisfaction): To visualize the relationship between age and height dissatisfaction scores, observing any trends or correlations.\n",
    "\n",
    "Usefulness: Age is often linked to changes in self-image across life stages. Understanding its distribution helps to verify sample diversity, and exploring its relationship with height dissatisfaction may reveal whether age plays a role in self-perceptions related to height.\n",
    "\n",
    "- DEMO_gender\n",
    "\n",
    "Description: A categorical variable representing participants’ gender, with categories such as male, female, and others.\n",
    "\n",
    "Visualization:\n",
    "\n",
    "    - Box Plot (Height Dissatisfaction by Gender): To examine differences in height dissatisfaction scores across gender groups.\n",
    "    - Bar Plot: To display the count of each gender category in the sample, verifying representation and group sizes.\n",
    "\n",
    "Usefulness: Gender differences in body image perception are well-documented, and a box plot can reveal whether height dissatisfaction varies significantly by gender. This insight could help determine if gender-specific factors influence dissatisfaction with height.\n",
    "\n",
    "DEMO_identity_veterans\n",
    "\n",
    "Description: A binary variable indicating whether participants identify as veterans.\n",
    "\n",
    "Visualization:\n",
    "\n",
    "    - Bar Plot (Mean Height Dissatisfaction by Veteran Status): To compare average height dissatisfaction scores between veterans and non-veterans.\n",
    "    - Count Plot: To display the number of veteran and non-veteran participants, assessing sample size for each group.\n",
    "\n",
    "Usefulness: Veterans may experience unique social or psychological factors affecting body image. Visual comparisons of height dissatisfaction across veteran status could highlight if this identity impacts self-perceptions related to height.\n",
    "\n",
    "DEMO_identity_lgbtq\n",
    "\n",
    "Description: A binary variable indicating whether participants identify as LGBTQ.\n",
    "\n",
    "Visualization:\n",
    "\n",
    "    - Box Plot (Height Dissatisfaction by LGBTQ Identity): To compare height dissatisfaction scores between LGBTQ and non-LGBTQ participants.\n",
    "    - Count Plot: To show the distribution of LGBTQ and non-LGBTQ participants in the sample.\n",
    "\n",
    "Usefulness: LGBTQ individuals may face societal pressures influencing body image. Analyzing height dissatisfaction by LGBTQ status could reveal if identity-based challenges correlate with self-image concerns, contributing to more targeted mental health support."
   ]
  },
  {
   "cell_type": "markdown",
   "id": "456ff393",
   "metadata": {},
   "source": [
    "**B. Psychological Scores**"
   ]
  },
  {
   "cell_type": "markdown",
   "id": "85d85e9d",
   "metadata": {},
   "source": [
    "- PSYCH_big_five_inventory_agreeable_score\n",
    "\n",
    "Description: A continuous variable representing the agreeableness score from the Big Five personality inventory, measuring a participant's tendency to be compassionate and cooperative.\n",
    "\n",
    "Visualization:\n",
    "\n",
    "    - Histogram: To explore the distribution of agreeableness scores across participants.\n",
    "    - Scatter Plot (Agreeableness vs. Height Dissatisfaction): To assess any linear relationship between agreeableness and height dissatisfaction scores.\n",
    "\n",
    "Usefulness: Agreeableness might influence self-image in social contexts, as agreeable individuals may experience body image differently. Visualizing its relationship with height dissatisfaction could help determine if personality traits affect self-perceptions.\n",
    "\n",
    "PSYCH_big_five_inventory_neurotic_score\n",
    "\n",
    "Description: A continuous variable representing the neuroticism score from the Big Five personality inventory, indicating participants' levels of emotional instability.\n",
    "\n",
    "Visualization:\n",
    "\n",
    "    - Histogram: To check the distribution of neuroticism scores, detecting any skewness that might affect analyses.\n",
    "    - Scatter Plot (Neuroticism vs. Height Dissatisfaction): To identify potential positive correlation between neuroticism and height dissatisfaction.\n",
    "\n",
    "Usefulness: Neuroticism is often linked to negative self-perception. Analyzing this variable’s relationship with height dissatisfaction scores could confirm whether higher emotional instability is associated with greater dissatisfaction, offering insight into psychological factors impacting body image."
   ]
  },
  {
   "cell_type": "markdown",
   "id": "50d6a852",
   "metadata": {},
   "source": [
    "<span style=\"font-size: 24px;\"><b>Analysis<b></span>"
   ]
  },
  {
   "cell_type": "markdown",
   "id": "8eb4f9e9",
   "metadata": {},
   "source": [
    "- Data Summarization:\n",
    "\n",
    "Descriptive Statistics: Using df.describe() to calculate summary statistics (mean, median, standard deviation) for age, agreeableness, neuroticism, and height dissatisfaction score. This provides an overview of central tendencies and dispersion, helping to assess whether variables follow a normal distribution or exhibit outliers.\n",
    "\n",
    "Categorical Counts: Using df.value_counts() for categorical variables like gender, veteran status, and LGBTQ identity to understand the distribution of these groups.\n",
    "\n",
    "- Visualization:\n",
    "\n",
    "Distribution and Outliers: Histograms will be used to assess the distribution of continuous variables (e.g., age, agreeableness, neuroticism scores) and identify any skewness or outliers.\n",
    "\n",
    "Group Comparisons: Box plots for categorical variables (e.g., gender, LGBTQ status) will allow a visual comparison of height dissatisfaction scores across these demographic groups.\n",
    "Bivariate Relationships: Scatter plots for pairs of continuous variables (e.g., neuroticism and height dissatisfaction score) will help in identifying trends in relationships, especially if there is a linear association.\n",
    "\n",
    "- Group-Based Analysis:\n",
    "\n",
    "Comparing Groups with Means/Variance: Using df.groupby() to calculate group-specific means and variance (e.g., df.groupby('DEMO_gender')['PSYCH_body_self_image_questionnaire_height_dissatisfaction_score'].describe()). This approach will help identify differences in height dissatisfaction scores across demographic categories.\n",
    "\n",
    "t-tests or ANOVA: For binary variables like veteran or LGBTQ status, t-tests can compare means to identify any statistically significant differences. For categorical variables with more than two groups, such as gender, ANOVA could test for mean differences across categories.\n",
    "\n",
    "- Correlation Analysis:\n",
    "\n",
    "Assessing Relationships with Pearson Correlation: Using df.corr() to assess linear relationships between continuous variables (e.g., neuroticism, age, agreeableness, height dissatisfaction score). This analysis assumes a linear relationship and normal distribution of the variables.\n",
    "\n",
    "Assumptions: Correlation analysis assumes that the relationships are linear and that the variables are normally distributed, particularly for Pearson correlation. Transformations may be applied if significant skew is present.\n"
   ]
  },
  {
   "cell_type": "markdown",
   "id": "a96fb9b3",
   "metadata": {},
   "source": [
    "<span style=\"font-size: 24px;\"><b>Hypothesis<b></span>"
   ]
  },
  {
   "cell_type": "markdown",
   "id": "fa0367a5",
   "metadata": {},
   "source": [
    "- Hypothesis:\n",
    "\n",
    "Psychological Trait Hypothesis: Higher neuroticism scores are hypothesized to be positively correlated with higher height dissatisfaction scores. Neuroticism, often associated with emotional instability, could lead to increased sensitivity about body image.\n",
    "\n",
    "Demographic Hypothesis: Individuals identifying as LGBTQ may have higher height dissatisfaction scores due to potential social pressures and identity-based experiences impacting body image. Gender and veteran status might also show variations in dissatisfaction scores, with certain groups potentially facing distinct challenges affecting self-image.\n",
    "\n",
    "- Expected Results:\n",
    "\n",
    "Positive Correlation: It is expected that neuroticism will show a positive correlation with height dissatisfaction, supporting the idea that individuals with higher emotional instability may experience greater dissatisfaction with their height.\n",
    "\n",
    "Group Differences: Significant differences in height dissatisfaction scores may be observed across gender and LGBTQ status groups, potentially indicating social and identity-based factors influencing self-image."
   ]
  },
  {
   "cell_type": "markdown",
   "id": "6f3e6176",
   "metadata": {},
   "source": [
    "<span style=\"font-size: 24px;\"><b>Relevant for the objectives of the course project<b></span>"
   ]
  },
  {
   "cell_type": "markdown",
   "id": "eaa0da2c",
   "metadata": {},
   "source": [
    "By investigating the effects of demographic and psychological factors on body image dissatisfaction—a topic intimately related to social connection and personal well-being—this research proposal advances the course objective. Students participate in relevant research that addresses the role of social belonging and community identification in forming self-perception and mental health by investigating how personality traits and identity factors (such as gender and LGBTQ status) impact body image. As they add to a larger understanding of how social dynamics and community involvement impact well-being—a primary goal of the course's investigation into the significance of social connection and community engagement in enhancing personal health and satisfaction—this project inspires students to think critically about their own identities and cultivates a sense of community engagement."
   ]
  }
 ],
 "metadata": {
  "kernelspec": {
   "display_name": "Python 3 (ipykernel)",
   "language": "python",
   "name": "python3"
  },
  "language_info": {
   "codemirror_mode": {
    "name": "ipython",
    "version": 3
   },
   "file_extension": ".py",
   "mimetype": "text/x-python",
   "name": "python",
   "nbconvert_exporter": "python",
   "pygments_lexer": "ipython3",
   "version": "3.11.6"
  }
 },
 "nbformat": 4,
 "nbformat_minor": 5
}
